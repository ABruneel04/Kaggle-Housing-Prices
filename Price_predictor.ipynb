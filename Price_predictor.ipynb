{
 "cells": [
  {
   "cell_type": "markdown",
   "id": "7f125681",
   "metadata": {},
   "source": [
    "#### Imports"
   ]
  },
  {
   "cell_type": "code",
   "execution_count": 189,
   "id": "4db105e5",
   "metadata": {},
   "outputs": [],
   "source": [
    "import pandas as pd\n",
    "import numpy as np\n",
    "import matplotlib.pyplot as plt\n",
    "from sklearn.linear_model import LinearRegression\n",
    "import sklearn.ensemble\n",
    "import statsmodels.api as sm\n",
    "from sklearn.preprocessing import PolynomialFeatures\n",
    "from sklearn.model_selection import train_test_split\n",
    "from sklearn.preprocessing import MinMaxScaler\n",
    "from sklearn.metrics import mean_squared_error, mean_absolute_error"
   ]
  },
  {
   "cell_type": "markdown",
   "id": "dacb2ed7",
   "metadata": {},
   "source": [
    "Printing our dataframe to get a look at our columns and get an idea for what could be worth feature engineering"
   ]
  },
  {
   "cell_type": "code",
   "execution_count": 190,
   "id": "49cbb021",
   "metadata": {},
   "outputs": [
    {
     "data": {
      "text/html": [
       "<div>\n",
       "<style scoped>\n",
       "    .dataframe tbody tr th:only-of-type {\n",
       "        vertical-align: middle;\n",
       "    }\n",
       "\n",
       "    .dataframe tbody tr th {\n",
       "        vertical-align: top;\n",
       "    }\n",
       "\n",
       "    .dataframe thead th {\n",
       "        text-align: right;\n",
       "    }\n",
       "</style>\n",
       "<table border=\"1\" class=\"dataframe\">\n",
       "  <thead>\n",
       "    <tr style=\"text-align: right;\">\n",
       "      <th></th>\n",
       "      <th>Id</th>\n",
       "      <th>MSSubClass</th>\n",
       "      <th>MSZoning</th>\n",
       "      <th>LotFrontage</th>\n",
       "      <th>LotArea</th>\n",
       "      <th>Street</th>\n",
       "      <th>Alley</th>\n",
       "      <th>LotShape</th>\n",
       "      <th>LandContour</th>\n",
       "      <th>Utilities</th>\n",
       "      <th>...</th>\n",
       "      <th>PoolArea</th>\n",
       "      <th>PoolQC</th>\n",
       "      <th>Fence</th>\n",
       "      <th>MiscFeature</th>\n",
       "      <th>MiscVal</th>\n",
       "      <th>MoSold</th>\n",
       "      <th>YrSold</th>\n",
       "      <th>SaleType</th>\n",
       "      <th>SaleCondition</th>\n",
       "      <th>SalePrice</th>\n",
       "    </tr>\n",
       "  </thead>\n",
       "  <tbody>\n",
       "    <tr>\n",
       "      <th>0</th>\n",
       "      <td>1</td>\n",
       "      <td>60</td>\n",
       "      <td>RL</td>\n",
       "      <td>65.0</td>\n",
       "      <td>8450</td>\n",
       "      <td>Pave</td>\n",
       "      <td>NaN</td>\n",
       "      <td>Reg</td>\n",
       "      <td>Lvl</td>\n",
       "      <td>AllPub</td>\n",
       "      <td>...</td>\n",
       "      <td>0</td>\n",
       "      <td>NaN</td>\n",
       "      <td>NaN</td>\n",
       "      <td>NaN</td>\n",
       "      <td>0</td>\n",
       "      <td>2</td>\n",
       "      <td>2008</td>\n",
       "      <td>WD</td>\n",
       "      <td>Normal</td>\n",
       "      <td>208500</td>\n",
       "    </tr>\n",
       "    <tr>\n",
       "      <th>1</th>\n",
       "      <td>2</td>\n",
       "      <td>20</td>\n",
       "      <td>RL</td>\n",
       "      <td>80.0</td>\n",
       "      <td>9600</td>\n",
       "      <td>Pave</td>\n",
       "      <td>NaN</td>\n",
       "      <td>Reg</td>\n",
       "      <td>Lvl</td>\n",
       "      <td>AllPub</td>\n",
       "      <td>...</td>\n",
       "      <td>0</td>\n",
       "      <td>NaN</td>\n",
       "      <td>NaN</td>\n",
       "      <td>NaN</td>\n",
       "      <td>0</td>\n",
       "      <td>5</td>\n",
       "      <td>2007</td>\n",
       "      <td>WD</td>\n",
       "      <td>Normal</td>\n",
       "      <td>181500</td>\n",
       "    </tr>\n",
       "    <tr>\n",
       "      <th>2</th>\n",
       "      <td>3</td>\n",
       "      <td>60</td>\n",
       "      <td>RL</td>\n",
       "      <td>68.0</td>\n",
       "      <td>11250</td>\n",
       "      <td>Pave</td>\n",
       "      <td>NaN</td>\n",
       "      <td>IR1</td>\n",
       "      <td>Lvl</td>\n",
       "      <td>AllPub</td>\n",
       "      <td>...</td>\n",
       "      <td>0</td>\n",
       "      <td>NaN</td>\n",
       "      <td>NaN</td>\n",
       "      <td>NaN</td>\n",
       "      <td>0</td>\n",
       "      <td>9</td>\n",
       "      <td>2008</td>\n",
       "      <td>WD</td>\n",
       "      <td>Normal</td>\n",
       "      <td>223500</td>\n",
       "    </tr>\n",
       "    <tr>\n",
       "      <th>3</th>\n",
       "      <td>4</td>\n",
       "      <td>70</td>\n",
       "      <td>RL</td>\n",
       "      <td>60.0</td>\n",
       "      <td>9550</td>\n",
       "      <td>Pave</td>\n",
       "      <td>NaN</td>\n",
       "      <td>IR1</td>\n",
       "      <td>Lvl</td>\n",
       "      <td>AllPub</td>\n",
       "      <td>...</td>\n",
       "      <td>0</td>\n",
       "      <td>NaN</td>\n",
       "      <td>NaN</td>\n",
       "      <td>NaN</td>\n",
       "      <td>0</td>\n",
       "      <td>2</td>\n",
       "      <td>2006</td>\n",
       "      <td>WD</td>\n",
       "      <td>Abnorml</td>\n",
       "      <td>140000</td>\n",
       "    </tr>\n",
       "    <tr>\n",
       "      <th>4</th>\n",
       "      <td>5</td>\n",
       "      <td>60</td>\n",
       "      <td>RL</td>\n",
       "      <td>84.0</td>\n",
       "      <td>14260</td>\n",
       "      <td>Pave</td>\n",
       "      <td>NaN</td>\n",
       "      <td>IR1</td>\n",
       "      <td>Lvl</td>\n",
       "      <td>AllPub</td>\n",
       "      <td>...</td>\n",
       "      <td>0</td>\n",
       "      <td>NaN</td>\n",
       "      <td>NaN</td>\n",
       "      <td>NaN</td>\n",
       "      <td>0</td>\n",
       "      <td>12</td>\n",
       "      <td>2008</td>\n",
       "      <td>WD</td>\n",
       "      <td>Normal</td>\n",
       "      <td>250000</td>\n",
       "    </tr>\n",
       "  </tbody>\n",
       "</table>\n",
       "<p>5 rows × 81 columns</p>\n",
       "</div>"
      ],
      "text/plain": [
       "   Id  MSSubClass MSZoning  LotFrontage  LotArea Street Alley LotShape  \\\n",
       "0   1          60       RL         65.0     8450   Pave   NaN      Reg   \n",
       "1   2          20       RL         80.0     9600   Pave   NaN      Reg   \n",
       "2   3          60       RL         68.0    11250   Pave   NaN      IR1   \n",
       "3   4          70       RL         60.0     9550   Pave   NaN      IR1   \n",
       "4   5          60       RL         84.0    14260   Pave   NaN      IR1   \n",
       "\n",
       "  LandContour Utilities  ... PoolArea PoolQC Fence MiscFeature MiscVal MoSold  \\\n",
       "0         Lvl    AllPub  ...        0    NaN   NaN         NaN       0      2   \n",
       "1         Lvl    AllPub  ...        0    NaN   NaN         NaN       0      5   \n",
       "2         Lvl    AllPub  ...        0    NaN   NaN         NaN       0      9   \n",
       "3         Lvl    AllPub  ...        0    NaN   NaN         NaN       0      2   \n",
       "4         Lvl    AllPub  ...        0    NaN   NaN         NaN       0     12   \n",
       "\n",
       "  YrSold  SaleType  SaleCondition  SalePrice  \n",
       "0   2008        WD         Normal     208500  \n",
       "1   2007        WD         Normal     181500  \n",
       "2   2008        WD         Normal     223500  \n",
       "3   2006        WD        Abnorml     140000  \n",
       "4   2008        WD         Normal     250000  \n",
       "\n",
       "[5 rows x 81 columns]"
      ]
     },
     "execution_count": 190,
     "metadata": {},
     "output_type": "execute_result"
    }
   ],
   "source": [
    "train = pd.read_csv('./train.csv')\n",
    "test = pd.read_csv('./test.csv')\n",
    "train.head()"
   ]
  },
  {
   "cell_type": "markdown",
   "id": "e1e74aee",
   "metadata": {},
   "source": [
    "#### Data Cleaning"
   ]
  },
  {
   "cell_type": "markdown",
   "id": "ed84356f",
   "metadata": {},
   "source": [
    "Intuitively, we would expect lot area to have a strong correlation with Sale Price"
   ]
  },
  {
   "cell_type": "code",
   "execution_count": 191,
   "id": "1f75ebf3",
   "metadata": {},
   "outputs": [
    {
     "name": "stdout",
     "output_type": "stream",
     "text": [
      "count      1460.000000\n",
      "mean     180921.195890\n",
      "std       79442.502883\n",
      "min       34900.000000\n",
      "25%      129975.000000\n",
      "50%      163000.000000\n",
      "75%      214000.000000\n",
      "max      755000.000000\n",
      "Name: SalePrice, dtype: float64\n"
     ]
    },
    {
     "data": {
      "image/png": "[encoded data removed]",
      "text/plain": [
       "<Figure size 432x288 with 1 Axes>"
      ]
     },
     "metadata": {
      "needs_background": "light"
     },
     "output_type": "display_data"
    }
   ],
   "source": [
    "print(train.SalePrice.describe())\n",
    "plt.scatter(train.LotArea, train.SalePrice)\n",
    "plt.xlabel('Lot Size')\n",
    "plt.ylabel('Sale Price')\n",
    "plt.show()\n",
    "# Df to store changes we make to the training data\n",
    "train_cleaned = train"
   ]
  },
  {
   "cell_type": "markdown",
   "id": "fd36b542",
   "metadata": {},
   "source": [
    "##### Finding numeric features and correlation"
   ]
  },
  {
   "cell_type": "code",
   "execution_count": 192,
   "id": "1cfdf0b9",
   "metadata": {},
   "outputs": [
    {
     "name": "stdout",
     "output_type": "stream",
     "text": [
      "SalePrice       1.000000\n",
      "OverallQual     0.790982\n",
      "GrLivArea       0.708624\n",
      "GarageCars      0.640409\n",
      "GarageArea      0.623431\n",
      "TotalBsmtSF     0.613581\n",
      "1stFlrSF        0.605852\n",
      "FullBath        0.560664\n",
      "TotRmsAbvGrd    0.533723\n",
      "YearBuilt       0.522897\n",
      "YearRemodAdd    0.507101\n",
      "Name: SalePrice, dtype: float64\n"
     ]
    }
   ],
   "source": [
    "numeric_features = train_cleaned.select_dtypes(include=[np.number])\n",
    "corr = numeric_features.corr()\n",
    "# Filtering out the most correlated numeric categories (either positively or negatively)\n",
    "top_numeric = corr['SalePrice'].loc[corr['SalePrice'].abs() > .5]\n",
    "print(top_numeric.sort_values(ascending = False))"
   ]
  },
  {
   "cell_type": "markdown",
   "id": "afc53c24",
   "metadata": {},
   "source": [
    "##### Working with OverallQual"
   ]
  },
  {
   "cell_type": "code",
   "execution_count": 193,
   "id": "1126a105",
   "metadata": {},
   "outputs": [
    {
     "name": "stdout",
     "output_type": "stream",
     "text": [
      "             SalePrice\n",
      "OverallQual           \n",
      "1                50150\n",
      "2                60000\n",
      "3                86250\n",
      "4               108000\n",
      "5               133000\n",
      "6               160000\n",
      "7               200141\n",
      "8               269750\n",
      "9               345000\n",
      "10              432390\n"
     ]
    },
    {
     "data": {
      "image/png": "[encoded data removed]",
      "text/plain": [
       "<Figure size 432x288 with 1 Axes>"
      ]
     },
     "metadata": {
      "needs_background": "light"
     },
     "output_type": "display_data"
    }
   ],
   "source": [
    "quality_pivot = train_cleaned.pivot_table(index='OverallQual', values='SalePrice', aggfunc=np.median)\n",
    "print(quality_pivot)\n",
    "\n",
    "plt.scatter(train_cleaned['OverallQual'], train_cleaned['SalePrice'])\n",
    "plt.ylabel('Sale Price')\n",
    "plt.xlabel('Quality Rating')\n",
    "plt.show()\n",
    "\n",
    "# Because this is our strongest predictor, we want to remove the outliers at quality rating 4 & 8\n",
    "qual_4_outlier = train_cleaned[(train_cleaned['SalePrice'] > 200000) & (train_cleaned['OverallQual'] == 4)].index\n",
    "qual_8_outlier = train_cleaned[(train_cleaned['SalePrice'] > 500000) & (train_cleaned['OverallQual'] == 8)].index\n",
    "train_cleaned = train_cleaned.drop(qual_4_outlier)\n",
    "train_cleaned = train_cleaned.drop(qual_8_outlier)"
   ]
  },
  {
   "cell_type": "markdown",
   "id": "3fb7d80f",
   "metadata": {},
   "source": [
    "##### Working with GrLivArea"
   ]
  },
  {
   "cell_type": "code",
   "execution_count": 194,
   "id": "1f551c3e",
   "metadata": {},
   "outputs": [
    {
     "data": {
      "image/png": "[encoded data removed]",
      "text/plain": [
       "<Figure size 432x288 with 1 Axes>"
      ]
     },
     "metadata": {
      "needs_background": "light"
     },
     "output_type": "display_data"
    }
   ],
   "source": [
    "# Making a function to determine grid points so we can filter the outliers here\n",
    "def xticks_GrLivArea(train_cleaned):\n",
    "    area_ticks = []\n",
    "    for area in range(train_cleaned.loc[train_cleaned['GrLivArea'].idxmax()]['GrLivArea']):\n",
    "        if area % 250 == 0:\n",
    "            area_ticks.append(area)\n",
    "    return area_ticks\n",
    "\n",
    "plt.scatter(train_cleaned['GrLivArea'], train_cleaned['SalePrice'])\n",
    "plt.ylabel('Sale Price')\n",
    "plt.xlabel('Above Ground Living Area')\n",
    "plt.xticks(xticks_GrLivArea(train_cleaned), rotation = 90)\n",
    "plt.grid()\n",
    "plt.show()\n",
    "# Removing outliers\n",
    "gr_outliers = train_cleaned[train_cleaned['GrLivArea'] > 4550].index\n",
    "train_cleaned = train_cleaned.drop(gr_outliers)"
   ]
  },
  {
   "cell_type": "markdown",
   "id": "cc59c7cb",
   "metadata": {},
   "source": [
    "##### Working with TotalBsmtSF"
   ]
  },
  {
   "cell_type": "code",
   "execution_count": 195,
   "id": "b80d0223",
   "metadata": {},
   "outputs": [
    {
     "data": {
      "image/png": "[encoded data removed]",
      "text/plain": [
       "<Figure size 432x288 with 1 Axes>"
      ]
     },
     "metadata": {
      "needs_background": "light"
     },
     "output_type": "display_data"
    }
   ],
   "source": [
    "plt.scatter(train_cleaned['TotalBsmtSF'], train_cleaned['SalePrice'])\n",
    "plt.xlabel('Basement Square Footage')\n",
    "plt.ylabel('Sale Price')\n",
    "plt.show()\n",
    "\n",
    "# Removing outliers\n",
    "bsmt_outliers = train_cleaned[train_cleaned['TotalBsmtSF'] > 5000].index\n",
    "train_cleaned = train_cleaned.drop(bsmt_outliers)"
   ]
  },
  {
   "cell_type": "markdown",
   "id": "0e543746",
   "metadata": {},
   "source": [
    "##### Working with 1stFlrSF"
   ]
  },
  {
   "cell_type": "code",
   "execution_count": 196,
   "id": "c46f021b",
   "metadata": {},
   "outputs": [
    {
     "data": {
      "image/png": "[encoded data removed]",
      "text/plain": [
       "<Figure size 432x288 with 1 Axes>"
      ]
     },
     "metadata": {
      "needs_background": "light"
     },
     "output_type": "display_data"
    }
   ],
   "source": [
    "plt.scatter(train_cleaned['1stFlrSF'], train_cleaned['SalePrice'])\n",
    "plt.xlabel('1st Floor Square Footage')\n",
    "plt.ylabel('Sale Price')\n",
    "plt.show()"
   ]
  },
  {
   "cell_type": "markdown",
   "id": "7973f2a7",
   "metadata": {},
   "source": [
    "#### Work with categorical features"
   ]
  },
  {
   "cell_type": "code",
   "execution_count": 197,
   "id": "804889dc",
   "metadata": {},
   "outputs": [
    {
     "data": {
      "text/html": [
       "<div>\n",
       "<style scoped>\n",
       "    .dataframe tbody tr th:only-of-type {\n",
       "        vertical-align: middle;\n",
       "    }\n",
       "\n",
       "    .dataframe tbody tr th {\n",
       "        vertical-align: top;\n",
       "    }\n",
       "\n",
       "    .dataframe thead th {\n",
       "        text-align: right;\n",
       "    }\n",
       "</style>\n",
       "<table border=\"1\" class=\"dataframe\">\n",
       "  <thead>\n",
       "    <tr style=\"text-align: right;\">\n",
       "      <th></th>\n",
       "      <th>MSZoning</th>\n",
       "      <th>Street</th>\n",
       "      <th>Alley</th>\n",
       "      <th>LotShape</th>\n",
       "      <th>LandContour</th>\n",
       "      <th>Utilities</th>\n",
       "      <th>LotConfig</th>\n",
       "      <th>LandSlope</th>\n",
       "      <th>Neighborhood</th>\n",
       "      <th>Condition1</th>\n",
       "      <th>...</th>\n",
       "      <th>GarageType</th>\n",
       "      <th>GarageFinish</th>\n",
       "      <th>GarageQual</th>\n",
       "      <th>GarageCond</th>\n",
       "      <th>PavedDrive</th>\n",
       "      <th>PoolQC</th>\n",
       "      <th>Fence</th>\n",
       "      <th>MiscFeature</th>\n",
       "      <th>SaleType</th>\n",
       "      <th>SaleCondition</th>\n",
       "    </tr>\n",
       "  </thead>\n",
       "  <tbody>\n",
       "    <tr>\n",
       "      <th>0</th>\n",
       "      <td>RL</td>\n",
       "      <td>Pave</td>\n",
       "      <td>NaN</td>\n",
       "      <td>Reg</td>\n",
       "      <td>Lvl</td>\n",
       "      <td>AllPub</td>\n",
       "      <td>Inside</td>\n",
       "      <td>Gtl</td>\n",
       "      <td>CollgCr</td>\n",
       "      <td>Norm</td>\n",
       "      <td>...</td>\n",
       "      <td>Attchd</td>\n",
       "      <td>RFn</td>\n",
       "      <td>TA</td>\n",
       "      <td>TA</td>\n",
       "      <td>Y</td>\n",
       "      <td>NaN</td>\n",
       "      <td>NaN</td>\n",
       "      <td>NaN</td>\n",
       "      <td>WD</td>\n",
       "      <td>Normal</td>\n",
       "    </tr>\n",
       "    <tr>\n",
       "      <th>1</th>\n",
       "      <td>RL</td>\n",
       "      <td>Pave</td>\n",
       "      <td>NaN</td>\n",
       "      <td>Reg</td>\n",
       "      <td>Lvl</td>\n",
       "      <td>AllPub</td>\n",
       "      <td>FR2</td>\n",
       "      <td>Gtl</td>\n",
       "      <td>Veenker</td>\n",
       "      <td>Feedr</td>\n",
       "      <td>...</td>\n",
       "      <td>Attchd</td>\n",
       "      <td>RFn</td>\n",
       "      <td>TA</td>\n",
       "      <td>TA</td>\n",
       "      <td>Y</td>\n",
       "      <td>NaN</td>\n",
       "      <td>NaN</td>\n",
       "      <td>NaN</td>\n",
       "      <td>WD</td>\n",
       "      <td>Normal</td>\n",
       "    </tr>\n",
       "    <tr>\n",
       "      <th>2</th>\n",
       "      <td>RL</td>\n",
       "      <td>Pave</td>\n",
       "      <td>NaN</td>\n",
       "      <td>IR1</td>\n",
       "      <td>Lvl</td>\n",
       "      <td>AllPub</td>\n",
       "      <td>Inside</td>\n",
       "      <td>Gtl</td>\n",
       "      <td>CollgCr</td>\n",
       "      <td>Norm</td>\n",
       "      <td>...</td>\n",
       "      <td>Attchd</td>\n",
       "      <td>RFn</td>\n",
       "      <td>TA</td>\n",
       "      <td>TA</td>\n",
       "      <td>Y</td>\n",
       "      <td>NaN</td>\n",
       "      <td>NaN</td>\n",
       "      <td>NaN</td>\n",
       "      <td>WD</td>\n",
       "      <td>Normal</td>\n",
       "    </tr>\n",
       "    <tr>\n",
       "      <th>3</th>\n",
       "      <td>RL</td>\n",
       "      <td>Pave</td>\n",
       "      <td>NaN</td>\n",
       "      <td>IR1</td>\n",
       "      <td>Lvl</td>\n",
       "      <td>AllPub</td>\n",
       "      <td>Corner</td>\n",
       "      <td>Gtl</td>\n",
       "      <td>Crawfor</td>\n",
       "      <td>Norm</td>\n",
       "      <td>...</td>\n",
       "      <td>Detchd</td>\n",
       "      <td>Unf</td>\n",
       "      <td>TA</td>\n",
       "      <td>TA</td>\n",
       "      <td>Y</td>\n",
       "      <td>NaN</td>\n",
       "      <td>NaN</td>\n",
       "      <td>NaN</td>\n",
       "      <td>WD</td>\n",
       "      <td>Abnorml</td>\n",
       "    </tr>\n",
       "    <tr>\n",
       "      <th>4</th>\n",
       "      <td>RL</td>\n",
       "      <td>Pave</td>\n",
       "      <td>NaN</td>\n",
       "      <td>IR1</td>\n",
       "      <td>Lvl</td>\n",
       "      <td>AllPub</td>\n",
       "      <td>FR2</td>\n",
       "      <td>Gtl</td>\n",
       "      <td>NoRidge</td>\n",
       "      <td>Norm</td>\n",
       "      <td>...</td>\n",
       "      <td>Attchd</td>\n",
       "      <td>RFn</td>\n",
       "      <td>TA</td>\n",
       "      <td>TA</td>\n",
       "      <td>Y</td>\n",
       "      <td>NaN</td>\n",
       "      <td>NaN</td>\n",
       "      <td>NaN</td>\n",
       "      <td>WD</td>\n",
       "      <td>Normal</td>\n",
       "    </tr>\n",
       "  </tbody>\n",
       "</table>\n",
       "<p>5 rows × 43 columns</p>\n",
       "</div>"
      ],
      "text/plain": [
       "  MSZoning Street Alley LotShape LandContour Utilities LotConfig LandSlope  \\\n",
       "0       RL   Pave   NaN      Reg         Lvl    AllPub    Inside       Gtl   \n",
       "1       RL   Pave   NaN      Reg         Lvl    AllPub       FR2       Gtl   \n",
       "2       RL   Pave   NaN      IR1         Lvl    AllPub    Inside       Gtl   \n",
       "3       RL   Pave   NaN      IR1         Lvl    AllPub    Corner       Gtl   \n",
       "4       RL   Pave   NaN      IR1         Lvl    AllPub       FR2       Gtl   \n",
       "\n",
       "  Neighborhood Condition1  ... GarageType GarageFinish GarageQual GarageCond  \\\n",
       "0      CollgCr       Norm  ...     Attchd          RFn         TA         TA   \n",
       "1      Veenker      Feedr  ...     Attchd          RFn         TA         TA   \n",
       "2      CollgCr       Norm  ...     Attchd          RFn         TA         TA   \n",
       "3      Crawfor       Norm  ...     Detchd          Unf         TA         TA   \n",
       "4      NoRidge       Norm  ...     Attchd          RFn         TA         TA   \n",
       "\n",
       "  PavedDrive PoolQC Fence MiscFeature SaleType SaleCondition  \n",
       "0          Y    NaN   NaN         NaN       WD        Normal  \n",
       "1          Y    NaN   NaN         NaN       WD        Normal  \n",
       "2          Y    NaN   NaN         NaN       WD        Normal  \n",
       "3          Y    NaN   NaN         NaN       WD       Abnorml  \n",
       "4          Y    NaN   NaN         NaN       WD        Normal  \n",
       "\n",
       "[5 rows x 43 columns]"
      ]
     },
     "execution_count": 197,
     "metadata": {},
     "output_type": "execute_result"
    }
   ],
   "source": [
    "# Finding the categoricals\n",
    "categorical_features = train_cleaned.select_dtypes(exclude=[np.number])\n",
    "categorical_features.head()"
   ]
  },
  {
   "cell_type": "markdown",
   "id": "8117476f",
   "metadata": {},
   "source": [
    "##### SaleCondition"
   ]
  },
  {
   "cell_type": "code",
   "execution_count": 198,
   "id": "c6e3f259",
   "metadata": {},
   "outputs": [
    {
     "data": {
      "image/png": "[encoded data removed]",
      "text/plain": [
       "<Figure size 432x288 with 1 Axes>"
      ]
     },
     "metadata": {
      "needs_background": "light"
     },
     "output_type": "display_data"
    }
   ],
   "source": [
    "condition_pivot = train_cleaned.pivot_table(index='SaleCondition', values='SalePrice', aggfunc=np.median)\n",
    "condition_pivot.plot(kind='bar', color='blue')\n",
    "plt.show()\n",
    "\n",
    "# Encoding houses sold as \"Partial\" because they have a much greater influence on the Sale Price\n",
    "def encode_condition(x):\n",
    "    if x == 'Partial':\n",
    "        return 1\n",
    "    else:\n",
    "        return 0\n",
    "\n",
    "train_cleaned['Encoded_Condition'] = train_cleaned['SaleCondition'].apply(lambda x: encode_condition(x))\n",
    "test['Encoded_Condition'] = test['SaleCondition'].apply(lambda x: encode_condition(x))"
   ]
  },
  {
   "cell_type": "markdown",
   "id": "e04c7591",
   "metadata": {},
   "source": [
    "##### PoolQC"
   ]
  },
  {
   "cell_type": "code",
   "execution_count": 199,
   "id": "d343801a",
   "metadata": {},
   "outputs": [
    {
     "data": {
      "image/png": "[encoded data removed]",
      "text/plain": [
       "<Figure size 432x288 with 1 Axes>"
      ]
     },
     "metadata": {
      "needs_background": "light"
     },
     "output_type": "display_data"
    }
   ],
   "source": [
    "pool_pivot = train_cleaned.pivot_table(index='PoolQC', values='SalePrice', aggfunc=np.median)\n",
    "pool_pivot.plot(kind='bar', color='blue')\n",
    "plt.show()\n",
    "\n",
    "# Encoding houses sold with \"Excellent\" pool quality\n",
    "def encode_pool(x):\n",
    "    if x == 'Ex':\n",
    "        return 1\n",
    "    else:\n",
    "        return 0\n",
    "    \n",
    "train_cleaned['Encoded_Pool'] = train_cleaned['PoolQC'].apply(lambda x: encode_pool(x))\n",
    "test['Encoded_Pool'] = test['PoolQC'].apply(lambda x: encode_pool(x))"
   ]
  },
  {
   "cell_type": "markdown",
   "id": "4d6c438f",
   "metadata": {},
   "source": [
    "Preparing our data for linear regression with our most useful features and splitting into training/testing data"
   ]
  },
  {
   "cell_type": "code",
   "execution_count": 200,
   "id": "6006c03b",
   "metadata": {},
   "outputs": [
    {
     "name": "stdout",
     "output_type": "stream",
     "text": [
      "SalePrice            1.000000\n",
      "OverallQual          0.799451\n",
      "GrLivArea            0.732405\n",
      "TotalBsmtSF          0.651541\n",
      "GarageCars           0.641021\n",
      "1stFlrSF             0.631667\n",
      "GarageArea           0.628911\n",
      "FullBath             0.560348\n",
      "TotRmsAbvGrd         0.533489\n",
      "YearBuilt            0.524800\n",
      "YearRemodAdd         0.508575\n",
      "MasVnrArea           0.476016\n",
      "Fireplaces           0.470816\n",
      "GarageYrBlt          0.469199\n",
      "BsmtFinSF1           0.405391\n",
      "Encoded_Condition    0.358925\n",
      "LotFrontage          0.332497\n",
      "OpenPorchSF          0.323286\n",
      "WoodDeckSF           0.317596\n",
      "2ndFlrSF             0.315476\n",
      "HalfBath             0.283553\n",
      "LotArea              0.257098\n",
      "BsmtFullBath         0.226132\n",
      "BsmtUnfSF            0.218926\n",
      "BedroomAbvGr         0.166029\n",
      "Encoded_Pool         0.145338\n",
      "ScreenPorch          0.101980\n",
      "PoolArea             0.100458\n",
      "MoSold               0.047665\n",
      "3SsnPorch            0.045332\n",
      "BsmtFinSF2          -0.010419\n",
      "BsmtHalfBath        -0.016097\n",
      "MiscVal             -0.021028\n",
      "Id                  -0.021704\n",
      "LowQualFinSF        -0.025360\n",
      "YrSold              -0.034324\n",
      "OverallCond         -0.077171\n",
      "MSSubClass          -0.084571\n",
      "EnclosedPorch       -0.128245\n",
      "KitchenAbvGr        -0.136149\n",
      "Name: SalePrice, dtype: float64\n"
     ]
    }
   ],
   "source": [
    "data = train_cleaned.select_dtypes(include=[np.number]).interpolate().dropna()\n",
    "data.head()\n",
    "\n",
    "corr = data.corr()\n",
    "# Filtering out the most correlated numeric categories (either positively or negatively)\n",
    "top_numeric = corr['SalePrice'].loc[corr['SalePrice'].abs() > 0]\n",
    "print(top_numeric.sort_values(ascending = False))\n",
    "row_list = []\n",
    "for row in top_numeric.index:\n",
    "    row_list.append(row)\n",
    "row_list.remove('SalePrice')\n",
    "row_list.remove('Id')\n",
    "\n",
    "y = np.log(train_cleaned['SalePrice'])\n",
    "X = data[row_list]\n",
    "X_train, X_test, y_train, y_test = train_test_split(X, y, test_size=0.33, random_state = 0)"
   ]
  },
  {
   "cell_type": "markdown",
   "id": "185a4fa9",
   "metadata": {},
   "source": [
    "Working with Statsmodels to filter insignificant p-values:"
   ]
  },
  {
   "cell_type": "markdown",
   "id": "3d0159ff",
   "metadata": {},
   "source": [
    "First plotting each individual predictor against Sale Price:"
   ]
  },
  {
   "cell_type": "code",
   "execution_count": 201,
   "id": "c719bf75",
   "metadata": {},
   "outputs": [
    {
     "name": "stdout",
     "output_type": "stream",
     "text": [
      "                        Results: Ordinary least squares\n",
      "================================================================================\n",
      "Model:                  OLS              Adj. R-squared (uncentered): 0.001     \n",
      "Dependent Variable:     SalePrice        AIC:                         11374.8324\n",
      "Date:                   2022-09-22 23:22 BIC:                         11380.1159\n",
      "No. Observations:       1456             Log-Likelihood:              -5686.4   \n",
      "Df Model:               1                F-statistic:                 2.318     \n",
      "Df Residuals:           1455             Prob (F-statistic):          0.128     \n",
      "R-squared (uncentered): 0.002            Scale:                       144.58    \n",
      "------------------------------------------------------------------------------------\n",
      "                   Coef.      Std.Err.       t        P>|t|       [0.025      0.975]\n",
      "------------------------------------------------------------------------------------\n",
      "Encoded_Pool      12.9442       8.5023     1.5224     0.1281     -3.7338     29.6223\n",
      "--------------------------------------------------------------------------------\n",
      "Omnibus:                2501.526          Durbin-Watson:             0.005      \n",
      "Prob(Omnibus):          0.000             Jarque-Bera (JB):          3132632.172\n",
      "Skew:                   -11.210           Prob(JB):                  0.000      \n",
      "Kurtosis:               229.129           Condition No.:             1          \n",
      "================================================================================\n",
      "\n"
     ]
    }
   ],
   "source": [
    "for col in X_train.columns:\n",
    "    x = data[col]\n",
    "    sm.add_constant(x)\n",
    "    reg = sm.OLS(y, x).fit()\n",
    "# Printing a sample summary statistic to show what was evaluated\n",
    "print(reg.summary2())"
   ]
  },
  {
   "cell_type": "markdown",
   "id": "8dd6b34f",
   "metadata": {},
   "source": [
    "We see that all p-values are significant here, we now need to test all features together"
   ]
  },
  {
   "cell_type": "markdown",
   "id": "9c1f6170",
   "metadata": {},
   "source": [
    "Here we have p-values that are outside of our confidence interval with alpha = .05. We will remove all insigificant factors, and see if the model improves performance"
   ]
  },
  {
   "cell_type": "code",
   "execution_count": 202,
   "id": "5f28d501",
   "metadata": {},
   "outputs": [
    {
     "name": "stdout",
     "output_type": "stream",
     "text": [
      "Mean Squared Error (all predictors):\n",
      "0.016368286884101975\n",
      "Mean Squared Error (predictors with significant p-values):\n",
      "0.017876673331948097\n",
      "Mean Squared Error: (interactions/polynomials)\n",
      "0.026136741545845263\n"
     ]
    }
   ],
   "source": [
    "y = np.log(train_cleaned['SalePrice'])\n",
    "X = data[row_list]\n",
    "X_train, X_test, y_train, y_test = train_test_split(X, y, test_size=0.33, random_state = 0)\n",
    "\n",
    "sm.add_constant(X_train)\n",
    "reg = sm.OLS(y_train, X_train).fit()\n",
    "y_hat = reg.predict(X_test)\n",
    "mse = mean_squared_error(y_hat, y_test)\n",
    "print('Mean Squared Error (all predictors):')\n",
    "print(mse)\n",
    "\n",
    "sm.add_constant(X_train)\n",
    "reg = sm.OLS(y_train, X_train).fit()\n",
    "\n",
    "# Reading in the Statsmodels summary as a dataframe and finding predictors with low p-vals\n",
    "results_as_html = reg.summary().tables[1].as_html()\n",
    "results_table = pd.read_html(results_as_html, header=0, index_col=0)[0]\n",
    "significant_vals = results_table[results_table['P>|t|'] < .05]\n",
    "val_list = significant_vals.index.values\n",
    "\n",
    "# Re-initializing the training and testing data with our list of significant predictors\n",
    "X_train, X_test, y_train, y_test = train_test_split(X[val_list], y, test_size=0.33, random_state=42)\n",
    "\n",
    "sm.add_constant(X_train)\n",
    "reg = sm.OLS(y_train, X_train).fit()\n",
    "y_hat = reg.predict(X_test)\n",
    "mse = mean_squared_error(y_hat, y_test)\n",
    "print('Mean Squared Error (predictors with significant p-values):')\n",
    "print(mse)\n",
    "\n",
    "# Finally, creating a model that includes all interaction terms and quadratic terms, then filtering by significance using \n",
    "# their p-values. Also filtering via the heirarchical principle so that we don't lose valuable predictors\n",
    "polynomials = PolynomialFeatures(degree = 2, include_bias = False, interaction_only = False)\n",
    "xp = pd.DataFrame(polynomials.fit_transform(X_train), columns = polynomials.get_feature_names_out())\n",
    "xp = sm.add_constant(xp)\n",
    "reg = sm.OLS(list(y_train), xp).fit()\n",
    "results_as_html = reg.summary().tables[1].as_html()\n",
    "results_table = pd.read_html(results_as_html, header=0, index_col=0)[0]\n",
    "# Creating a dictionary to store keys (predictors) we will use in our final model\n",
    "significant_dict = dict()\n",
    "significant_vals = results_table[results_table['P>|t|'] < .05]\n",
    "list_of_vals = significant_vals.index.values\n",
    "for val in list_of_vals:\n",
    "    significant_dict[val] = 1\n",
    "significant_list = list(significant_dict.keys())\n",
    "\n",
    "# Final model, hopefully with the lowest MSE when applied to the \n",
    "X_train, X_test, y_train, y_test = train_test_split(X[val_list], y, test_size=0.33, random_state=42)\n",
    "\n",
    "polynomials = PolynomialFeatures(degree = 2, include_bias = False, interaction_only = False)\n",
    "xp = pd.DataFrame(polynomials.fit_transform(X_train), columns = polynomials.get_feature_names_out())\n",
    "xp = sm.add_constant(xp[significant_list])\n",
    "reg = sm.OLS(list(y_train), xp).fit()\n",
    "X_test = pd.DataFrame(polynomials.fit_transform(X_test), columns = polynomials.get_feature_names_out())\n",
    "X_test = sm.add_constant(X_test[significant_list])\n",
    "y_hat = reg.predict(X_test)\n",
    "mse = mean_squared_error(y_hat, y_test)\n",
    "print('Mean Squared Error: (interactions/polynomials)')\n",
    "print(mse)"
   ]
  },
  {
   "cell_type": "markdown",
   "id": "9210ca72",
   "metadata": {},
   "source": [
    "We see that dropping the insiginificant columns actually increased our MSE, but likely made our model more generalizable. The predictors with low p-values likely DID contribute to our model, but not in a way that was worth it for the generalizability we were losing."
   ]
  },
  {
   "cell_type": "markdown",
   "id": "c8f10fb5",
   "metadata": {},
   "source": [
    "Using our model on the entire training set to evaluate performance and fit it to run on the test set..."
   ]
  },
  {
   "cell_type": "code",
   "execution_count": 203,
   "id": "4e2a7fd0",
   "metadata": {},
   "outputs": [
    {
     "name": "stdout",
     "output_type": "stream",
     "text": [
      "Mean Squared Error:\n",
      "724567689.6987488\n"
     ]
    }
   ],
   "source": [
    "# Using our entire train df to evaluate our model\n",
    "data = train_cleaned.select_dtypes(include=[np.number]).interpolate().dropna()\n",
    "y = np.log(data['SalePrice'])\n",
    "X = data[val_list]\n",
    "\n",
    "polynomials = PolynomialFeatures(degree = 2, include_bias = False, interaction_only = False)\n",
    "xp = pd.DataFrame(polynomials.fit_transform(X), columns = polynomials.get_feature_names_out())\n",
    "xp = sm.add_constant(xp[significant_list])\n",
    "reg = sm.OLS(list(y), xp).fit()\n",
    "y_hat = reg.predict(xp)\n",
    "\n",
    "# Exponentiating to account for our log taken earlier\n",
    "mse = mean_squared_error(np.exp(y_hat), np.exp(y))\n",
    "print('Mean Squared Error:')\n",
    "print(mse)\n",
    "\n",
    "# Getting the y_hat for our test set\n",
    "data = test.select_dtypes(include=[np.number]).interpolate().dropna()\n",
    "X = data[val_list]\n",
    "\n",
    "polynomials = PolynomialFeatures(degree = 2, include_bias = False, interaction_only = False)\n",
    "xp = pd.DataFrame(polynomials.fit_transform(X), columns = polynomials.get_feature_names_out())\n",
    "xp = sm.add_constant(xp[significant_list])\n",
    "# Our final predicted y_hats!\n",
    "y_hat = reg.predict(xp)"
   ]
  },
  {
   "cell_type": "markdown",
   "id": "458d56cd",
   "metadata": {},
   "source": [
    "Although this is on our entire training data, this is comparable to the MSE that we see from other LINEAR models on the leaderboard!"
   ]
  }
 ],
 "metadata": {
  "kernelspec": {
   "display_name": "Python 3 (ipykernel)",
   "language": "python",
   "name": "python3"
  },
  "language_info": {
   "codemirror_mode": {
    "name": "ipython",
    "version": 3
   },
   "file_extension": ".py",
   "mimetype": "text/x-python",
   "name": "python",
   "nbconvert_exporter": "python",
   "pygments_lexer": "ipython3",
   "version": "3.9.12"
  }
 },
 "nbformat": 4,
 "nbformat_minor": 5
}
